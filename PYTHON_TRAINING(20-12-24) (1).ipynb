{
 "cells": [
  {
   "cell_type": "code",
   "execution_count": 6,
   "id": "c0ae1af8",
   "metadata": {},
   "outputs": [
    {
     "name": "stdout",
     "output_type": "stream",
     "text": [
      "Enter the password:123434@Nn122\n",
      "Valid Password\n",
      "None\n"
     ]
    }
   ],
   "source": [
    "def check_password(password):\n",
    "    if len(password)<10 or len(password)>15:\n",
    "        print(\"Enter the poassword within 10-15 characters\")\n",
    "    elif password.isdigit() or password.isalpha():\n",
    "        print(\"password should consists of mix of characters and digits\")\n",
    "    elif not any(c.islower() for c in password):\n",
    "        print(\"Password should contain at least one lowercase letter.\")\n",
    "    elif not any(c.isupper() for c in password):\n",
    "        print(\"Password should contain at least one uppercase letter.\")\n",
    "    elif not any(c.isdigit() for c in password):\n",
    "        print(\"Password should contain at least one digit.\")\n",
    "    elif not any(c in '!@#$%^&*(),.?\":{}|<>' for c in password):\n",
    "        print(\"Password should contain at least one special character.\")\n",
    "    elif \" \" in password:\n",
    "        print(\"The password should not contain any white spaces.\")\n",
    "    elif password.endswith('.') or password.endswith('@'):\n",
    "        print(\"Password should not end with a dot (.) or @ symbol.\")\n",
    "    else:\n",
    "        print(\"Valid Password\")\n",
    "\n",
    "        \n",
    "password=input(\"Enter the password:\")\n",
    "print(check_password(password))\n",
    "\n"
   ]
  },
  {
   "cell_type": "code",
   "execution_count": null,
   "id": "d55ab32e",
   "metadata": {},
   "outputs": [],
   "source": [
    "import re\n",
    "\n",
    "def check_password(password):\n",
    "    \n",
    "    if len(password) < 10 or len(password) > 15:\n",
    "        print(\"Enter the password within 10-15 characters.\")\n",
    "    \n",
    "    elif password.isdigit() or password.isalpha():\n",
    "        print(\"Password should consist of a mix of characters and digits.\")\n",
    "    \n",
    "    elif \" \" in password:\n",
    "        print(\"The password should not contain any white spaces.\")\n",
    "    \n",
    "    elif not re.search(r'[a-z]', password):\n",
    "        print(\"Password should contain at least one lowercase letter.\")\n",
    "    elif not re.search(r'[A-Z]', password):\n",
    "        print(\"Password should contain at least one uppercase letter.\")\n",
    "    elif not re.search(r'[0-9]', password):\n",
    "        print(\"Password should contain at least one digit.\")\n",
    "    elif not re.search(r'[!@#$%^&*(),.?\":{}|<>]', password):\n",
    "        print(\"Password should contain at least one special character.\")\n",
    "    \n",
    "    elif password.endswith('.') or password.endswith('@'):\n",
    "        print(\"Password should not end with a dot (.) or @ symbol.\")\n",
    "\n",
    "    else:\n",
    "        print(\"Password is valid.\")\n",
    "        return True\n",
    "\n",
    "password = input(\"Enter the password: \")\n",
    "check_password(password)"
   ]
  },
  {
   "cell_type": "code",
   "execution_count": null,
   "id": "3248ebcd",
   "metadata": {},
   "outputs": [],
   "source": [
    "def factorial(n):\n",
    "    if n == 0 or n == 1:\n",
    "        return 1\n",
    "    else:\n",
    "        return n * factorial(n - 1)\n",
    "\n",
    "number = int(input(\"Enter a number to calculate its factorial: \"))\n",
    "result = factorial(number)\n",
    "print(f\"The factorial of {number} is {result}\")\n",
    "\n"
   ]
  },
  {
   "cell_type": "code",
   "execution_count": null,
   "id": "b0a93493",
   "metadata": {},
   "outputs": [],
   "source": [
    "def is_prime(n):\n",
    "    if n <= 1:\n",
    "        return False\n",
    "    for i in range(2, int(n**0.5) + 1):\n",
    "        if n % i == 0:\n",
    "            return False\n",
    "    return True\n",
    "\n",
    "number = int(input(\"Enter a number: \"))\n",
    "if is_prime(number):\n",
    "    print(f\"{number} is a prime number\")\n",
    "else:\n",
    "    print(f\"{number} is not a prime number\")\n"
   ]
  },
  {
   "cell_type": "code",
   "execution_count": null,
   "id": "8f31d3ef",
   "metadata": {},
   "outputs": [],
   "source": [
    "def convert_currency(amount, usd_to_inr, usd_to_eur, usd_to_gbp):\n",
    "    inr = amount * usd_to_inr\n",
    "    eur = amount * usd_to_eur\n",
    "    gbp = amount * usd_to_gbp\n",
    "    return inr, eur, gbp\n",
    "\n",
    "usd_to_inr = 83.00  \n",
    "usd_to_eur = 0.92   \n",
    "usd_to_gbp = 0.81   \n",
    "\n",
    "amount = float(input(\"Enter amount in USD: \"))\n",
    "inr, eur, gbp = convert_currency(amount, usd_to_inr, usd_to_eur, usd_to_gbp)\n",
    "\n",
    "print(f\"{amount} USD is equivalent to {inr} INR\")\n",
    "print(f\"{amount} USD is equivalent to {eur} EUR\")\n",
    "print(f\"{amount} USD is equivalent to {gbp} GBP\")\n"
   ]
  },
  {
   "cell_type": "code",
   "execution_count": null,
   "id": "3cff2d0e",
   "metadata": {},
   "outputs": [],
   "source": [
    "def is_palindrome(s):\n",
    "    return s == s[::-1]\n",
    "\n",
    "string = input(\"Enter a string: \")\n",
    "if is_palindrome(string):\n",
    "    print(\"The string is a palindrome\")\n",
    "else:\n",
    "    print(\"The string is not a palindrome\")\n"
   ]
  },
  {
   "cell_type": "code",
   "execution_count": 11,
   "id": "e922107a",
   "metadata": {},
   "outputs": [
    {
     "name": "stdout",
     "output_type": "stream",
     "text": [
      "cart items:{'Laptop': 50000, 'Headphones': 2000, 'Mouse': 25000, 'Keyboard': 1500, 'Monitor': 8000, 'USB Drive': 1000}\n",
      "Total price:78750.0\n",
      "Discounted price:13125.0\n"
     ]
    }
   ],
   "source": [
    "def calculate_total(cart):\n",
    "    \"\"\" calculate the total price of the items in the cart.\n",
    "       Apply a 10% discount if more than 5 items .\"\"\"\n",
    "    total=sum(cart.values())\n",
    "    if len(cart)>5:\n",
    "        total*=0.9\n",
    "    return total\n",
    "def discount(total):\n",
    "    if total>20000 and total<50000:\n",
    "        total*=0.9\n",
    "    elif total>50000:\n",
    "        total*=0.15\n",
    "    else:\n",
    "        print(\"No discount\")\n",
    "    return total\n",
    "\n",
    "cart={'Laptop':50000,'Headphones':2000,'Mouse':25000,'Keyboard':1500,'Monitor':8000,'USB Drive':1000}\n",
    "\n",
    "print(f\"cart items:{cart}\")\n",
    "total=sum(cart.values())\n",
    "print(f\"Total price:{calculate_total(cart)}\")\n",
    "print(f\"Discounted price:{discount(total)}\")"
   ]
  },
  {
   "cell_type": "code",
   "execution_count": 5,
   "id": "f3819e2d",
   "metadata": {},
   "outputs": [
    {
     "name": "stdout",
     "output_type": "stream",
     "text": [
      "Cart items: {'Laptop': 50000, 'Headphones': 2000, 'Mouse': 25000, 'Keyboard': 1500, 'Monitor': 8000, 'USB Drive': 1000}\n",
      "No discount applied to item costing 50000\n",
      "No discount applied to item costing 2000\n",
      "No discount applied to item costing 1500\n",
      "No discount applied to item costing 8000\n",
      "No discount applied to item costing 1000\n",
      "Total price after discount (including cart discount): 76500.0\n"
     ]
    }
   ],
   "source": [
    "def calculate_total(cart):\n",
    "    total = 0\n",
    "    for item, price in cart.items():\n",
    "        price_after_discount = discount(price)\n",
    "        total += price_after_discount\n",
    "    if len(cart) > 5:\n",
    "        total *= 0.9\n",
    "    return total\n",
    "\n",
    "def discount(price):\n",
    "    if price > 20000 and price < 50000:\n",
    "        price *= 0.9\n",
    "    elif price > 50000:\n",
    "        price *= 0.85\n",
    "    else:\n",
    "        print(f\"No discount applied to item costing {price}\")\n",
    "    return price\n",
    "\n",
    "cart = {'Laptop': 50000, 'Headphones': 2000, 'Mouse': 25000, 'Keyboard': 1500, 'Monitor': 8000, 'USB Drive': 1000}\n",
    "\n",
    "print(f\"Cart items: {cart}\")\n",
    "total_price = calculate_total(cart)\n",
    "print(f\"Total price after discount (including cart discount): {total_price}\")\n",
    "\n"
   ]
  },
  {
   "cell_type": "code",
   "execution_count": null,
   "id": "62a7ae82",
   "metadata": {},
   "outputs": [],
   "source": [
    "\n"
   ]
  }
 ],
 "metadata": {
  "kernelspec": {
   "display_name": "Python 3 (ipykernel)",
   "language": "python",
   "name": "python3"
  },
  "language_info": {
   "codemirror_mode": {
    "name": "ipython",
    "version": 3
   },
   "file_extension": ".py",
   "mimetype": "text/x-python",
   "name": "python",
   "nbconvert_exporter": "python",
   "pygments_lexer": "ipython3",
   "version": "3.11.5"
  }
 },
 "nbformat": 4,
 "nbformat_minor": 5
}
