{
 "cells": [
  {
   "cell_type": "markdown",
   "id": "0268f99c-f1cb-4a27-9771-a5a557b3fe28",
   "metadata": {},
   "source": [
    "**SUPPORT VECTOR MACHINE**"
   ]
  },
  {
   "cell_type": "markdown",
   "id": "03e4ae24-a922-4da4-a3bc-569994658674",
   "metadata": {},
   "source": [
    "**Definition:**\n",
    "Support Vector Machine (SVM) is a supervised machine learning algorithm primarily used for classification tasks, but it can also be used for regression. SVM aims to find the optimal hyperplane that separates data points of different classes with the maximum margin."
   ]
  },
  {
   "cell_type": "code",
   "execution_count": null,
   "id": "5ae69013-4e14-4e53-8bf7-cc324d230049",
   "metadata": {},
   "outputs": [],
   "source": [
    "import numpy as np\n",
    "import pandas as pd\n",
    "import matplotlib.pyplot as plt\n",
    "import seaborn as sns\n",
    "from sklearn.model_selection import train_test_split\n",
    "from sklearn.preprocessing import StandardScaler,LabelEncoder\n",
    "from sklearn.svm import SVC\n",
    "from sklearn.metrics import accuracy_score, classification_report, confusion_matrix\n",
    "from sklearn.decomposition import PCA"
   ]
  },
  {
   "cell_type": "code",
   "execution_count": 13,
   "id": "32087ced-0d13-4919-8c4e-4990595b1f2f",
   "metadata": {},
   "outputs": [
    {
     "data": {
      "text/html": [
       "<div>\n",
       "<style scoped>\n",
       "    .dataframe tbody tr th:only-of-type {\n",
       "        vertical-align: middle;\n",
       "    }\n",
       "\n",
       "    .dataframe tbody tr th {\n",
       "        vertical-align: top;\n",
       "    }\n",
       "\n",
       "    .dataframe thead th {\n",
       "        text-align: right;\n",
       "    }\n",
       "</style>\n",
       "<table border=\"1\" class=\"dataframe\">\n",
       "  <thead>\n",
       "    <tr style=\"text-align: right;\">\n",
       "      <th></th>\n",
       "      <th>age</th>\n",
       "      <th>sex</th>\n",
       "      <th>cp</th>\n",
       "      <th>trestbps</th>\n",
       "      <th>chol</th>\n",
       "      <th>fbs</th>\n",
       "      <th>restecg</th>\n",
       "      <th>thalach</th>\n",
       "      <th>exang</th>\n",
       "      <th>oldpeak</th>\n",
       "      <th>slope</th>\n",
       "      <th>ca</th>\n",
       "      <th>thal</th>\n",
       "      <th>target</th>\n",
       "    </tr>\n",
       "  </thead>\n",
       "  <tbody>\n",
       "    <tr>\n",
       "      <th>0</th>\n",
       "      <td>52</td>\n",
       "      <td>1</td>\n",
       "      <td>0</td>\n",
       "      <td>125</td>\n",
       "      <td>212</td>\n",
       "      <td>0</td>\n",
       "      <td>1</td>\n",
       "      <td>168</td>\n",
       "      <td>0</td>\n",
       "      <td>1.0</td>\n",
       "      <td>2</td>\n",
       "      <td>2</td>\n",
       "      <td>3</td>\n",
       "      <td>0</td>\n",
       "    </tr>\n",
       "    <tr>\n",
       "      <th>1</th>\n",
       "      <td>53</td>\n",
       "      <td>1</td>\n",
       "      <td>0</td>\n",
       "      <td>140</td>\n",
       "      <td>203</td>\n",
       "      <td>1</td>\n",
       "      <td>0</td>\n",
       "      <td>155</td>\n",
       "      <td>1</td>\n",
       "      <td>3.1</td>\n",
       "      <td>0</td>\n",
       "      <td>0</td>\n",
       "      <td>3</td>\n",
       "      <td>0</td>\n",
       "    </tr>\n",
       "    <tr>\n",
       "      <th>2</th>\n",
       "      <td>70</td>\n",
       "      <td>1</td>\n",
       "      <td>0</td>\n",
       "      <td>145</td>\n",
       "      <td>174</td>\n",
       "      <td>0</td>\n",
       "      <td>1</td>\n",
       "      <td>125</td>\n",
       "      <td>1</td>\n",
       "      <td>2.6</td>\n",
       "      <td>0</td>\n",
       "      <td>0</td>\n",
       "      <td>3</td>\n",
       "      <td>0</td>\n",
       "    </tr>\n",
       "    <tr>\n",
       "      <th>3</th>\n",
       "      <td>61</td>\n",
       "      <td>1</td>\n",
       "      <td>0</td>\n",
       "      <td>148</td>\n",
       "      <td>203</td>\n",
       "      <td>0</td>\n",
       "      <td>1</td>\n",
       "      <td>161</td>\n",
       "      <td>0</td>\n",
       "      <td>0.0</td>\n",
       "      <td>2</td>\n",
       "      <td>1</td>\n",
       "      <td>3</td>\n",
       "      <td>0</td>\n",
       "    </tr>\n",
       "    <tr>\n",
       "      <th>4</th>\n",
       "      <td>62</td>\n",
       "      <td>0</td>\n",
       "      <td>0</td>\n",
       "      <td>138</td>\n",
       "      <td>294</td>\n",
       "      <td>1</td>\n",
       "      <td>1</td>\n",
       "      <td>106</td>\n",
       "      <td>0</td>\n",
       "      <td>1.9</td>\n",
       "      <td>1</td>\n",
       "      <td>3</td>\n",
       "      <td>2</td>\n",
       "      <td>0</td>\n",
       "    </tr>\n",
       "  </tbody>\n",
       "</table>\n",
       "</div>"
      ],
      "text/plain": [
       "   age  sex  cp  trestbps  chol  fbs  restecg  thalach  exang  oldpeak  slope  \\\n",
       "0   52    1   0       125   212    0        1      168      0      1.0      2   \n",
       "1   53    1   0       140   203    1        0      155      1      3.1      0   \n",
       "2   70    1   0       145   174    0        1      125      1      2.6      0   \n",
       "3   61    1   0       148   203    0        1      161      0      0.0      2   \n",
       "4   62    0   0       138   294    1        1      106      0      1.9      1   \n",
       "\n",
       "   ca  thal  target  \n",
       "0   2     3       0  \n",
       "1   0     3       0  \n",
       "2   0     3       0  \n",
       "3   1     3       0  \n",
       "4   3     2       0  "
      ]
     },
     "execution_count": 13,
     "metadata": {},
     "output_type": "execute_result"
    }
   ],
   "source": [
    "df=pd.read_csv('heart.csv')\n",
    "df.head()  "
   ]
  },
  {
   "cell_type": "markdown",
   "id": "1304aab5-2dec-4229-b290-7abe3ba09968",
   "metadata": {},
   "source": [
    "**Preprocess the data**"
   ]
  },
  {
   "cell_type": "code",
   "execution_count": 16,
   "id": "5a7dac13-a2a8-4a78-a4eb-43578b64e589",
   "metadata": {},
   "outputs": [],
   "source": [
    "#handle missing values\n",
    "df.dropna(inplace=True)\n",
    "#Encode the categorical values\n",
    "label_encoders={}\n",
    "for col in df.select_dtypes(include=['object']).columns:\n",
    "    le=LabelEncoder()\n",
    "    df[col]=le.firt.transform(df[col])\n",
    "    label_encoder[col]=le"
   ]
  },
  {
   "cell_type": "markdown",
   "id": "252cbb71-19a8-4df9-83a7-14ba016bf0ee",
   "metadata": {},
   "source": [
    "**Split dataset into Training and Testing**"
   ]
  },
  {
   "cell_type": "code",
   "execution_count": 19,
   "id": "4b73e49d-c259-45cd-be87-81812342540f",
   "metadata": {},
   "outputs": [],
   "source": [
    "#Define features and target variable \n",
    "X=df.drop(columns=['target'])\n",
    "y=df['target']\n",
    "\n",
    "# now split into the traning and testing sets (80-20 split)\n",
    "X_train, X_test, y_train, y_test = train_test_split(X, y, test_size=0.2, random_state=42)"
   ]
  },
  {
   "cell_type": "markdown",
   "id": "ebee8db2-f93b-4811-81ee-b9e888900d51",
   "metadata": {},
   "source": [
    "**Standardize Feature**"
   ]
  },
  {
   "cell_type": "code",
   "execution_count": 22,
   "id": "eaa01ab0-0d5f-4e4a-8b4a-ca235b3a899e",
   "metadata": {},
   "outputs": [],
   "source": [
    "scaler=StandardScaler()\n",
    "X_train=scaler.fit_transform(X_train)\n",
    "X_test=scaler.transform(X_test)"
   ]
  },
  {
   "cell_type": "markdown",
   "id": "0b493bb8-12a0-4448-a833-f0d32e99dd9f",
   "metadata": {},
   "source": [
    "**Train and Evaluate SVM models**"
   ]
  },
  {
   "cell_type": "code",
   "execution_count": 27,
   "id": "1fd3cd51-0e18-4396-99bb-75fb0902fb3c",
   "metadata": {},
   "outputs": [],
   "source": [
    "from sklearn.svm import SVC\n",
    "from sklearn.metrics import accuracy_score\n",
    "\n",
    "# Train the SVM with Linear Kernel\n",
    "svm_linear = SVC(kernel='linear', C=1)  \n",
    "svm_linear.fit(X_train, y_train)\n",
    "y_pred_linear = svm_linear.predict(X_test)\n",
    "\n",
    "# Train SVM with Polynomial Kernel\n",
    "svm_poly = SVC(kernel='poly', degree=3, C=1)  \n",
    "svm_poly.fit(X_train, y_train)\n",
    "y_pred_poly = svm_poly.predict(X_test)\n",
    "\n",
    "# Train SVM with RBF Kernel\n",
    "svm_rbf = SVC(kernel='rbf', C=1, gamma='scale')  \n",
    "svm_rbf.fit(X_train, y_train)\n",
    "y_pred_rbf = svm_rbf.predict(X_test)\n",
    "\n"
   ]
  },
  {
   "cell_type": "markdown",
   "id": "d4847d0c-d046-4dc9-b53e-71ebd1673c4a",
   "metadata": {},
   "source": [
    "**Evaluate Model Performance**"
   ]
  },
  {
   "cell_type": "code",
   "execution_count": 29,
   "id": "14255495-b223-4363-9c89-f593bdfb1a9f",
   "metadata": {},
   "outputs": [
    {
     "name": "stdout",
     "output_type": "stream",
     "text": [
      "Linear Kernel - Accuracy: 0.8146341463414634\n",
      "Polynomial Kernel - Accuracy: 0.9073170731707317\n",
      "RBF Kernel - Accuracy: 0.8878048780487805\n"
     ]
    }
   ],
   "source": [
    "# Evaluate the models\n",
    "print(\"Linear Kernel - Accuracy:\", accuracy_score(y_test, y_pred_linear))\n",
    "print(\"Polynomial Kernel - Accuracy:\", accuracy_score(y_test, y_pred_poly))\n",
    "print(\"RBF Kernel - Accuracy:\", accuracy_score(y_test, y_pred_rbf))\n"
   ]
  },
  {
   "cell_type": "code",
   "execution_count": null,
   "id": "9a0164b6-e76e-428a-930b-b3ef88fb781c",
   "metadata": {},
   "outputs": [],
   "source": []
  }
 ],
 "metadata": {
  "kernelspec": {
   "display_name": "Python [conda env:base]",
   "language": "python",
   "name": "conda-base-py"
  },
  "language_info": {
   "codemirror_mode": {
    "name": "ipython",
    "version": 3
   },
   "file_extension": ".py",
   "mimetype": "text/x-python",
   "name": "python",
   "nbconvert_exporter": "python",
   "pygments_lexer": "ipython3",
   "version": "3.11.5"
  }
 },
 "nbformat": 4,
 "nbformat_minor": 5
}
