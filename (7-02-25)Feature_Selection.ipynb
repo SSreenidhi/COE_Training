{
 "cells": [
  {
   "cell_type": "markdown",
   "id": "8ed491e9",
   "metadata": {},
   "source": [
    "**What is Feature Selection?**\n",
    " \n",
    "        Feature selection is the process of choosing the most important features (variables) from a dataset to improve a machine learning model's performance and efficiency. Instead of using all the features, we select only the most relevant ones that contribute significantly to predictions."
   ]
  },
  {
   "cell_type": "markdown",
   "id": "f7c64ceb",
   "metadata": {},
   "source": [
    "**Why Do We Need Feature Selection?**"
   ]
  },
  {
   "cell_type": "markdown",
   "id": "839bbbb8",
   "metadata": {},
   "source": [
    "*1.Reduces Overfitting 📉*\n",
    " \n",
    "        Too many irrelevant features can make a model complex and cause it to overfit the training data.\n",
    "*2.Improves Model Performance 🚀*\n",
    " \n",
    "        Selecting relevant features boosts accuracy and reduces unnecessary noise in the data.\n",
    "*3.Reduces Training Time ⏳*\n",
    " \n",
    "        Fewer features mean faster model training and lower computational cost.\n",
    "*4.Enhances Interpretability 🔍*\n",
    " \n",
    "        Helps in understanding which features actually impact predictions."
   ]
  },
  {
   "cell_type": "markdown",
   "id": "6b41203e",
   "metadata": {},
   "source": [
    "**Types of Feature Selection Methods**"
   ]
  },
  {
   "cell_type": "markdown",
   "id": "b5124f71",
   "metadata": {},
   "source": [
    "<ins>*Type => Filter Methods:*</ins>\n",
    " \n",
    "Method => Correlation, Chi-Square, Mutual Information.\n",
    " \n",
    "Description => Rank features based on statistical tests."
   ]
  },
  {
   "cell_type": "markdown",
   "id": "3f9e709b",
   "metadata": {},
   "source": [
    "<ins>*Type => Wrapper Methods:*</ins>\n",
    " \n",
    "Method => Forward/Backward Selection, Recursive Feature Elimination (RFE)\n",
    " \n",
    "Description => Train models with different feature subsets and select the best."
   ]
  },
  {
   "cell_type": "markdown",
   "id": "d88c1374",
   "metadata": {},
   "source": [
    "<ins>*Type => Embedded Methods*</ins>\n",
    " \n",
    "Method =>Lasso Regression, Decision Trees\n",
    " \n",
    "Description =>Feature selection is built into the model training process."
   ]
  },
  {
   "cell_type": "code",
   "execution_count": 5,
   "id": "57b8e5c3",
   "metadata": {},
   "outputs": [],
   "source": [
    "import pandas as pd\n",
    "import numpy as np\n",
    "from sklearn.model_selection import train_test_split\n",
    "from sklearn.ensemble import RandomForestRegressor\n",
    "from sklearn.feature_selection import RFE\n",
    "from sklearn.linear_model import Lasso\n",
    "import seaborn as sns\n",
    "import matplotlib.pyplot as plt"
   ]
  },
  {
   "cell_type": "code",
   "execution_count": 8,
   "id": "765e9305",
   "metadata": {},
   "outputs": [],
   "source": [
    "#Step 1-Create Sample Dataset\n",
    "np.random.seed(42)\n",
    "data=pd.DataFrame({\n",
    "    'Size': np.random.randint(1000,5000,100),\n",
    "    'Bedrooms': np.random.randint(1,5,100),\n",
    "    'Age':np.random.randint(1,50,100),\n",
    "    'Price':np.random.randint(100000,500000,100),\n",
    "})"
   ]
  },
  {
   "cell_type": "code",
   "execution_count": 9,
   "id": "e22ec01f",
   "metadata": {},
   "outputs": [
    {
     "data": {
      "text/html": [
       "<div>\n",
       "<style scoped>\n",
       "    .dataframe tbody tr th:only-of-type {\n",
       "        vertical-align: middle;\n",
       "    }\n",
       "\n",
       "    .dataframe tbody tr th {\n",
       "        vertical-align: top;\n",
       "    }\n",
       "\n",
       "    .dataframe thead th {\n",
       "        text-align: right;\n",
       "    }\n",
       "</style>\n",
       "<table border=\"1\" class=\"dataframe\">\n",
       "  <thead>\n",
       "    <tr style=\"text-align: right;\">\n",
       "      <th></th>\n",
       "      <th>Size</th>\n",
       "      <th>Bedrooms</th>\n",
       "      <th>Age</th>\n",
       "      <th>Price</th>\n",
       "    </tr>\n",
       "  </thead>\n",
       "  <tbody>\n",
       "    <tr>\n",
       "      <th>0</th>\n",
       "      <td>4174</td>\n",
       "      <td>2</td>\n",
       "      <td>32</td>\n",
       "      <td>486393</td>\n",
       "    </tr>\n",
       "    <tr>\n",
       "      <th>1</th>\n",
       "      <td>4507</td>\n",
       "      <td>2</td>\n",
       "      <td>39</td>\n",
       "      <td>134754</td>\n",
       "    </tr>\n",
       "    <tr>\n",
       "      <th>2</th>\n",
       "      <td>1860</td>\n",
       "      <td>4</td>\n",
       "      <td>49</td>\n",
       "      <td>326814</td>\n",
       "    </tr>\n",
       "    <tr>\n",
       "      <th>3</th>\n",
       "      <td>2294</td>\n",
       "      <td>2</td>\n",
       "      <td>32</td>\n",
       "      <td>337714</td>\n",
       "    </tr>\n",
       "    <tr>\n",
       "      <th>4</th>\n",
       "      <td>2130</td>\n",
       "      <td>2</td>\n",
       "      <td>4</td>\n",
       "      <td>242483</td>\n",
       "    </tr>\n",
       "  </tbody>\n",
       "</table>\n",
       "</div>"
      ],
      "text/plain": [
       "   Size  Bedrooms  Age   Price\n",
       "0  4174         2   32  486393\n",
       "1  4507         2   39  134754\n",
       "2  1860         4   49  326814\n",
       "3  2294         2   32  337714\n",
       "4  2130         2    4  242483"
      ]
     },
     "execution_count": 9,
     "metadata": {},
     "output_type": "execute_result"
    }
   ],
   "source": [
    "data.head()"
   ]
  },
  {
   "cell_type": "code",
   "execution_count": 10,
   "id": "6b122c62",
   "metadata": {},
   "outputs": [
    {
     "data": {
      "image/png": "[encoded data removed]",
      "text/plain": [
       "<Figure size 600x400 with 2 Axes>"
      ]
     },
     "metadata": {},
     "output_type": "display_data"
    }
   ],
   "source": [
    "#Step 2:Compute Corelation(Filter Method)\n",
    "plt.figure(figsize=(6,4))\n",
    "sns.heatmap(data.corr(),annot=True,cmap='flare',fmt='.2f')\n",
    "plt.title(\"Feature correlation Matrix\")\n",
    "plt.show()"
   ]
  },
  {
   "cell_type": "code",
   "execution_count": 12,
   "id": "921f3577",
   "metadata": {},
   "outputs": [
    {
     "name": "stdout",
     "output_type": "stream",
     "text": [
      "Selected features using RFE: Index(['Size', 'Age'], dtype='object')\n"
     ]
    }
   ],
   "source": [
    "#step3: Apply Recurssive Feature Elimination(Wrapper Method)\n",
    "X=data.drop(columns=['Price'])\n",
    "y=data['Price']\n",
    "\n",
    "model=RandomForestRegressor()\n",
    "rfe=RFE(model,n_features_to_select=2)\n",
    "Xselected=rfe.fit_transform(X,y)\n",
    "print(\"Selected features using RFE:\",X.columns[rfe.support_])"
   ]
  },
  {
   "cell_type": "code",
   "execution_count": 13,
   "id": "4848c0e0",
   "metadata": {},
   "outputs": [
    {
     "name": "stdout",
     "output_type": "stream",
     "text": [
      "selected Features using Lasso: Index(['Size', 'Bedrooms', 'Age'], dtype='object')\n"
     ]
    }
   ],
   "source": [
    "#step4: Apply Lasso(Least Absolute Shrinkage and Selection Operator)Regression(Ebedded Method)\n",
    "lasso=Lasso(alpha=0.1)\n",
    "lasso.fit(X,y)\n",
    "importance=np.abs(lasso.coef_)\n",
    "selected_features=X.columns[importance>0]\n",
    "print(\"selected Features using Lasso:\",selected_features)\n",
    "#Apply Lasso Regression(Ebedded Method )to eliminate irrelavent features"
   ]
  },
  {
   "cell_type": "code",
   "execution_count": null,
   "id": "8b4e795b",
   "metadata": {},
   "outputs": [],
   "source": [
    "import matplotlib.pyplot as plt\n",
    "from sklearn.linear_model import Lasso"
   ]
  }
 ],
 "metadata": {
  "kernelspec": {
   "display_name": "Python 3 (ipykernel)",
   "language": "python",
   "name": "python3"
  },
  "language_info": {
   "codemirror_mode": {
    "name": "ipython",
    "version": 3
   },
   "file_extension": ".py",
   "mimetype": "text/x-python",
   "name": "python",
   "nbconvert_exporter": "python",
   "pygments_lexer": "ipython3",
   "version": "3.11.5"
  }
 },
 "nbformat": 4,
 "nbformat_minor": 5
}
