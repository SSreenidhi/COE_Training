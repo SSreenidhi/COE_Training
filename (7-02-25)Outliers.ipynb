{
 "cells": [
  {
   "cell_type": "code",
   "execution_count": 3,
   "id": "efc6ca2d",
   "metadata": {},
   "outputs": [],
   "source": [
    "import numpy as np\n",
    "import pandas as pd\n",
    "import matplotlib.pyplot as plt\n",
    "import seaborn as sns\n",
    "from scipy.stats import zscore"
   ]
  },
  {
   "cell_type": "code",
   "execution_count": 45,
   "id": "009b9811",
   "metadata": {},
   "outputs": [],
   "source": [
    "import numpy as np\n",
    "np.random.seed(42)\n",
    "data = np.random.normal(loc=50, scale=10, size=100)\n",
    "outliers = np.array([10, 110, 5, 120])\n",
    "data= np.concatenate([data,outliers])\n"
   ]
  },
  {
   "cell_type": "code",
   "execution_count": 46,
   "id": "885b1904",
   "metadata": {},
   "outputs": [
    {
     "data": {
      "text/html": [
       "<div>\n",
       "<style scoped>\n",
       "    .dataframe tbody tr th:only-of-type {\n",
       "        vertical-align: middle;\n",
       "    }\n",
       "\n",
       "    .dataframe tbody tr th {\n",
       "        vertical-align: top;\n",
       "    }\n",
       "\n",
       "    .dataframe thead th {\n",
       "        text-align: right;\n",
       "    }\n",
       "</style>\n",
       "<table border=\"1\" class=\"dataframe\">\n",
       "  <thead>\n",
       "    <tr style=\"text-align: right;\">\n",
       "      <th></th>\n",
       "      <th>Values</th>\n",
       "    </tr>\n",
       "  </thead>\n",
       "  <tbody>\n",
       "    <tr>\n",
       "      <th>0</th>\n",
       "      <td>54.967142</td>\n",
       "    </tr>\n",
       "    <tr>\n",
       "      <th>1</th>\n",
       "      <td>48.617357</td>\n",
       "    </tr>\n",
       "    <tr>\n",
       "      <th>2</th>\n",
       "      <td>56.476885</td>\n",
       "    </tr>\n",
       "    <tr>\n",
       "      <th>3</th>\n",
       "      <td>65.230299</td>\n",
       "    </tr>\n",
       "    <tr>\n",
       "      <th>4</th>\n",
       "      <td>47.658466</td>\n",
       "    </tr>\n",
       "  </tbody>\n",
       "</table>\n",
       "</div>"
      ],
      "text/plain": [
       "      Values\n",
       "0  54.967142\n",
       "1  48.617357\n",
       "2  56.476885\n",
       "3  65.230299\n",
       "4  47.658466"
      ]
     },
     "execution_count": 46,
     "metadata": {},
     "output_type": "execute_result"
    }
   ],
   "source": [
    "df=pd.DataFrame(data,columns=['Values'])\n",
    "df.head()"
   ]
  },
  {
   "cell_type": "code",
   "execution_count": 47,
   "id": "addcbf97",
   "metadata": {},
   "outputs": [
    {
     "data": {
      "text/html": [
       "<div>\n",
       "<style scoped>\n",
       "    .dataframe tbody tr th:only-of-type {\n",
       "        vertical-align: middle;\n",
       "    }\n",
       "\n",
       "    .dataframe tbody tr th {\n",
       "        vertical-align: top;\n",
       "    }\n",
       "\n",
       "    .dataframe thead th {\n",
       "        text-align: right;\n",
       "    }\n",
       "</style>\n",
       "<table border=\"1\" class=\"dataframe\">\n",
       "  <thead>\n",
       "    <tr style=\"text-align: right;\">\n",
       "      <th></th>\n",
       "      <th>Values</th>\n",
       "    </tr>\n",
       "  </thead>\n",
       "  <tbody>\n",
       "    <tr>\n",
       "      <th>99</th>\n",
       "      <td>47.654129</td>\n",
       "    </tr>\n",
       "    <tr>\n",
       "      <th>100</th>\n",
       "      <td>10.000000</td>\n",
       "    </tr>\n",
       "    <tr>\n",
       "      <th>101</th>\n",
       "      <td>110.000000</td>\n",
       "    </tr>\n",
       "    <tr>\n",
       "      <th>102</th>\n",
       "      <td>5.000000</td>\n",
       "    </tr>\n",
       "    <tr>\n",
       "      <th>103</th>\n",
       "      <td>120.000000</td>\n",
       "    </tr>\n",
       "  </tbody>\n",
       "</table>\n",
       "</div>"
      ],
      "text/plain": [
       "         Values\n",
       "99    47.654129\n",
       "100   10.000000\n",
       "101  110.000000\n",
       "102    5.000000\n",
       "103  120.000000"
      ]
     },
     "execution_count": 47,
     "metadata": {},
     "output_type": "execute_result"
    }
   ],
   "source": [
    "df.tail()"
   ]
  },
  {
   "cell_type": "markdown",
   "id": "9a2b3803",
   "metadata": {},
   "source": [
    "**Detecting oulers using scatter plot**"
   ]
  },
  {
   "cell_type": "code",
   "execution_count": 48,
   "id": "5382f9cf",
   "metadata": {},
   "outputs": [
    {
     "data": {
      "image/png": "[encoded data removed]",
      "text/plain": [
       "<Figure size 800x500 with 1 Axes>"
      ]
     },
     "metadata": {},
     "output_type": "display_data"
    }
   ],
   "source": [
    "import matplotlib.pyplot as plt\n",
    "\n",
    "plt.figure(figsize=(8, 5))\n",
    "plt.scatter(range(len(df)), df['Values'], color='red', label='Data points')\n",
    "plt.axhline(y=df['Values'].mean(), color='red', linestyle='--', label='Mean')\n",
    "plt.xlabel(\"Index\")\n",
    "plt.ylabel(\"Values\")\n",
    "plt.title(\"Scatter plot for outliers Detection\")\n",
    "plt.legend()\n",
    "plt.show()"
   ]
  },
  {
   "cell_type": "markdown",
   "id": "c21f2118",
   "metadata": {},
   "source": [
    "<ins>**A box plot is useful for spotting extremen values using quartiles**<ins>"
   ]
  },
  {
   "cell_type": "code",
   "execution_count": 49,
   "id": "eebcb35f",
   "metadata": {},
   "outputs": [
    {
     "data": {
      "image/png": "[encoded data removed]",
      "text/plain": [
       "<Figure size 800x500 with 1 Axes>"
      ]
     },
     "metadata": {},
     "output_type": "display_data"
    }
   ],
   "source": [
    "import matplotlib.pyplot as plt\n",
    "import seaborn as sns\n",
    "plt.figure(figsize=(8, 5))\n",
    "sns.boxplot(data=df, y='Values',color='purple')\n",
    "plt.title(\"Box plot for outliers Detection\")\n",
    "plt.show()"
   ]
  },
  {
   "cell_type": "code",
   "execution_count": 50,
   "id": "93fa47ba",
   "metadata": {},
   "outputs": [
    {
     "name": "stdout",
     "output_type": "stream",
     "text": [
      "     Values   Z-score Outlier_Z\n",
      "101   110.0  4.328173   Outlier\n",
      "102     5.0 -3.175368   Outlier\n",
      "103   120.0  5.042796   Outlier\n"
     ]
    }
   ],
   "source": [
    "from scipy.stats import zscore\n",
    "df.head()\n",
    "df['Z-score'] = zscore(df['Values'])\n",
    "df['Outlier_Z'] = df['Z-score'].apply(lambda x: 'Outlier' if abs(x) > 3 else 'Normal')\n",
    "\n",
    "print(df[df['Outlier_Z'] == 'Outlier'])\n"
   ]
  },
  {
   "cell_type": "code",
   "execution_count": 51,
   "id": "b06716bc",
   "metadata": {},
   "outputs": [
    {
     "name": "stdout",
     "output_type": "stream",
     "text": [
      "      Values   Z-score\n",
      "0  54.967142  0.395399\n",
      "1  48.617357 -0.058371\n",
      "2  56.476885  0.503289\n",
      "3  65.230299  1.128828\n",
      "4  47.658466 -0.126896\n"
     ]
    }
   ],
   "source": [
    "print(df[['Values', 'Z-score']].head())"
   ]
  },
  {
   "cell_type": "code",
   "execution_count": 56,
   "id": "0d06ece4",
   "metadata": {},
   "outputs": [
    {
     "name": "stdout",
     "output_type": "stream",
     "text": [
      "         Values   Z-score Outlier_Z Outer_IQR Outlier_IQR\n",
      "74    23.802549 -1.831694    Normal   Outlier     Outlier\n",
      "100   10.000000 -2.818056    Normal   Outlier     Outlier\n",
      "101  110.000000  4.328173   Outlier   Outlier     Outlier\n",
      "102    5.000000 -3.175368   Outlier   Outlier     Outlier\n",
      "103  120.000000  5.042796   Outlier   Outlier     Outlier\n"
     ]
    }
   ],
   "source": [
    "Q1=df['Values'].quantile(0.25)\n",
    "Q3=df['Values'].quantile(0.75)\n",
    "IQR=Q3-Q1\n",
    "\n",
    "lower_bound=Q1-1.5*IQR\n",
    "upper_bound=Q3+1.5*IQR\n",
    "\n",
    "df['Outlier_IQR']=df['Values'].apply(lambda x:'Outlier' if(x<lower_bound or x> upper_bound)else 'Normal')\n",
    "print(df[df['Outlier_IQR']=='Outlier'])"
   ]
  },
  {
   "cell_type": "markdown",
   "id": "546689f3",
   "metadata": {},
   "source": [
    "Minimum (Q0) → The smallest value in the dataset.\n",
    " \n",
    "First Quartile (Q1) → The 25th percentile (lower quartile).\n",
    " \n",
    "Median (Q2) → The 50th percentile (middle value).\n",
    " \n",
    "Third Quartile (Q3) → The 75th percentile (upper quartile).\n",
    " \n",
    "Maximum (Q4) → The largest value in the dataset."
   ]
  },
  {
   "cell_type": "markdown",
   "id": "0dae7eb3",
   "metadata": {},
   "source": [
    "he Interquartile Range (IQR) is calculated as:\n",
    " \n",
    "IQR=Q3−Q1\n",
    " \n",
    "Any value outside the range:\n",
    " \n",
    "[Q1−1.5×IQR,Q3+1.5×IQR]  is considered an outlier."
   ]
  },
  {
   "cell_type": "code",
   "execution_count": 57,
   "id": "991a8b20",
   "metadata": {},
   "outputs": [
    {
     "name": "stdout",
     "output_type": "stream",
     "text": [
      "5-Number Summary:\n",
      "Min5.0,Q1:43.874401021766715,Median(Q2),Q3:55.00852473036764,Max:120.0\n",
      "IQR:11.134123708600924\n",
      "Lower Bound:27.17321545886533,Upper BVound:71.70971029326903\n",
      "Outliers:[ 23.80254896  10.         110.           5.         120.        ]\n"
     ]
    }
   ],
   "source": [
    "import numpy as np\n",
    "np.random.seed(42)\n",
    "data = np.random.normal(loc=50, scale=10, size=100)\n",
    "outliers = np.array([10, 110, 5, 120])\n",
    "data= np.concatenate([data,outliers])\n",
    "\n",
    "Q1=np.percentile(data,25)\n",
    "Q2=np.median(data)\n",
    "Q3=np.percentile(data,75)\n",
    "min_value=np.min(data)\n",
    "max_value=np.max(data)\n",
    "\n",
    "IQR=Q3-Q1\n",
    "\n",
    "lower_bound=Q1-1.5*IQR\n",
    "upper_bound=Q3+1.5*IQR\n",
    "outliers=data[(data<lower_bound)|(data>upper_bound)]\n",
    "\n",
    "print(f\"5-Number Summary:\\nMin{min_value},Q1:{Q1},Median(Q2),Q3:{Q3},Max:{max_value}\")\n",
    "print(f\"IQR:{IQR}\")\n",
    "print(f\"Lower Bound:{lower_bound},Upper BVound:{upper_bound}\")\n",
    "print(f\"Outliers:{outliers}\")"
   ]
  }
 ],
 "metadata": {
  "kernelspec": {
   "display_name": "Python 3 (ipykernel)",
   "language": "python",
   "name": "python3"
  },
  "language_info": {
   "codemirror_mode": {
    "name": "ipython",
    "version": 3
   },
   "file_extension": ".py",
   "mimetype": "text/x-python",
   "name": "python",
   "nbconvert_exporter": "python",
   "pygments_lexer": "ipython3",
   "version": "3.11.5"
  }
 },
 "nbformat": 4,
 "nbformat_minor": 5
}
