{
 "cells": [
  {
   "cell_type": "markdown",
   "id": "3e022e8a-92ca-4e9c-a7b6-12d344099c72",
   "metadata": {},
   "source": [
    "***KNN***"
   ]
  },
  {
   "cell_type": "markdown",
   "id": "13bd7327-3d1b-4aec-b7ad-59276a6ea06a",
   "metadata": {},
   "source": [
    "**Definition:**\n",
    "\n",
    "K-Nearest Neighbors (KNN) is a simple, instance-based learning algorithm used for classification and regression. It predicts the output of a data point by considering the majority label (for classification) or the average (for regression) of its K nearest neighbors in the feature space."
   ]
  },
  {
   "cell_type": "markdown",
   "id": "4b4d4ecb-8533-4fbb-b78e-bd8a3fd71d28",
   "metadata": {},
   "source": [
    "**KNN for Classification**"
   ]
  },
  {
   "cell_type": "code",
   "execution_count": 11,
   "id": "c548e527-adee-4c94-9057-ea5d561d69a2",
   "metadata": {},
   "outputs": [
    {
     "name": "stdout",
     "output_type": "stream",
     "text": [
      "Accuracy:1.00\n"
     ]
    }
   ],
   "source": [
    "from sklearn.datasets import load_iris\n",
    "from sklearn.model_selection import train_test_split\n",
    "from sklearn.neighbors import KNeighborsClassifier\n",
    "from sklearn.metrics import accuracy_score\n",
    "\n",
    "iris=load_iris()\n",
    "X=iris.data\n",
    "y=iris.target\n",
    "\n",
    "X_train,X_test,y_train,y_test=train_test_split(X,y,test_size=0.3,random_state=42)\n",
    "\n",
    "knn_classifier=KNeighborsClassifier(n_neighbors=3)\n",
    "knn_classifier.fit(X_train,y_train)\n",
    "y_pred=knn_classifier.predict(X_test)\n",
    "\n",
    "accuracy=accuracy_score(y_test,y_pred)\n",
    "print(f\"Accuracy:{accuracy:.2f}\")\n"
   ]
  },
  {
   "cell_type": "markdown",
   "id": "42724401-ca55-47aa-ba1b-d71510f265b4",
   "metadata": {},
   "source": [
    "**KNN Regression**"
   ]
  },
  {
   "cell_type": "code",
   "execution_count": 27,
   "id": "ace8d26b-eb8e-4495-a733-c4edbe1ce807",
   "metadata": {},
   "outputs": [
    {
     "name": "stdout",
     "output_type": "stream",
     "text": [
      "Mean squared Error: 1.20\n"
     ]
    }
   ],
   "source": [
    "from sklearn.datasets import fetch_california_housing\n",
    "from sklearn.model_selection import train_test_split\n",
    "from sklearn.neighbors import KNeighborsRegressor\n",
    "from sklearn.metrics import mean_squared_error\n",
    "\n",
    "california = fetch_california_housing()\n",
    "X = california.data\n",
    "y = california.target\n",
    "\n",
    "X_train, X_test, y_train, y_test = train_test_split(X, y, test_size=0.3, random_state=42)\n",
    "\n",
    "knn_regressor = KNeighborsRegressor(n_neighbors=3)\n",
    "knn_regressor.fit(X_train, y_train)\n",
    "y_pred = knn_regressor.predict(X_test)\n",
    "\n",
    "mse = mean_squared_error(y_test, y_pred)\n",
    "print(f\"Mean squared Error: {mse:.2f}\")\n"
   ]
  },
  {
   "cell_type": "code",
   "execution_count": null,
   "id": "f972f611-131c-4a2b-a31d-eaad8358eef3",
   "metadata": {},
   "outputs": [],
   "source": []
  }
 ],
 "metadata": {
  "kernelspec": {
   "display_name": "Python [conda env:base]",
   "language": "python",
   "name": "conda-base-py"
  },
  "language_info": {
   "codemirror_mode": {
    "name": "ipython",
    "version": 3
   },
   "file_extension": ".py",
   "mimetype": "text/x-python",
   "name": "python",
   "nbconvert_exporter": "python",
   "pygments_lexer": "ipython3",
   "version": "3.11.5"
  }
 },
 "nbformat": 4,
 "nbformat_minor": 5
}
