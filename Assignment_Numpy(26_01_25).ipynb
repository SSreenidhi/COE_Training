{
  "nbformat": 4,
  "nbformat_minor": 0,
  "metadata": {
    "colab": {
      "provenance": []
    },
    "kernelspec": {
      "name": "python3",
      "display_name": "Python 3"
    },
    "language_info": {
      "name": "python"
    }
  },
  "cells": [
    {
      "cell_type": "markdown",
      "source": [
        "# **Assignment on Numpy Module **"
      ],
      "metadata": {
        "id": "uZIkqjZ5c0lV"
      }
    },
    {
      "cell_type": "markdown",
      "source": [
        "# 1.\tArray Creation\n",
        "o\tCreate a 1D array of numbers from 10 to 50.\n",
        "\n",
        "o\tCreate a 3x3 array of random numbers between 0 and 1.\n"
      ],
      "metadata": {
        "id": "weRY6VVwUSfY"
      }
    },
    {
      "cell_type": "code",
      "execution_count": 2,
      "metadata": {
        "id": "mtTBhnx2lfB4"
      },
      "outputs": [],
      "source": [
        "import numpy as np"
      ]
    },
    {
      "cell_type": "code",
      "source": [
        "arr1 = np.arange(10, 51)\n",
        "print(arr1)"
      ],
      "metadata": {
        "colab": {
          "base_uri": "https://localhost:8080/"
        },
        "id": "NtL6UY1FUr7k",
        "outputId": "8615c876-28bf-419e-f7ce-1a8b35290702"
      },
      "execution_count": 3,
      "outputs": [
        {
          "output_type": "stream",
          "name": "stdout",
          "text": [
            "[10 11 12 13 14 15 16 17 18 19 20 21 22 23 24 25 26 27 28 29 30 31 32 33\n",
            " 34 35 36 37 38 39 40 41 42 43 44 45 46 47 48 49 50]\n"
          ]
        }
      ]
    },
    {
      "cell_type": "code",
      "source": [
        "arr2 = np.random.rand(3, 3)\n",
        "print(arr2)"
      ],
      "metadata": {
        "colab": {
          "base_uri": "https://localhost:8080/"
        },
        "id": "NcwaRTatVBEv",
        "outputId": "16a20135-b20a-4951-fc17-8f9f76bfde6a"
      },
      "execution_count": 4,
      "outputs": [
        {
          "output_type": "stream",
          "name": "stdout",
          "text": [
            "[[0.78654898 0.50810457 0.43747158]\n",
            " [0.78469031 0.97465482 0.01563483]\n",
            " [0.5575864  0.68054124 0.43425649]]\n"
          ]
        }
      ]
    },
    {
      "cell_type": "markdown",
      "source": [
        "# 2.\tArray Attributes\n",
        "o\tFind the shape, size, and data type of the array you created in the previous task.\n",
        "\n"
      ],
      "metadata": {
        "id": "ctnVqYNLVVHs"
      }
    },
    {
      "cell_type": "code",
      "source": [
        "print(\"Shape:\", arr2.shape)\n",
        "print(\"Size:\", arr2.size)\n",
        "print(\"Data Type:\",arr2.dtype)"
      ],
      "metadata": {
        "colab": {
          "base_uri": "https://localhost:8080/"
        },
        "id": "AQjBGZ3KVfBO",
        "outputId": "82daabd5-f795-4d6c-b3e7-cf7365001767"
      },
      "execution_count": 5,
      "outputs": [
        {
          "output_type": "stream",
          "name": "stdout",
          "text": [
            "Shape: (3, 3)\n",
            "Size: 9\n",
            "Data Type: float64\n"
          ]
        }
      ]
    },
    {
      "cell_type": "markdown",
      "source": [
        "# 3.\tBasic Operations\n",
        "o\tAdd 5 to every element of a 1D array.\n",
        "\n",
        "o\tMultiply two 2D arrays element-wise.\n"
      ],
      "metadata": {
        "id": "PO21TwBrV175"
      }
    },
    {
      "cell_type": "code",
      "source": [
        "arr3= np.array([1, 2, 3, 4, 5])\n",
        "sum= arr3 + 5\n",
        "print(\"Adding 5 to evry element in the array:\",sum)"
      ],
      "metadata": {
        "colab": {
          "base_uri": "https://localhost:8080/"
        },
        "id": "qqtMwHRjV_ob",
        "outputId": "90dcb26d-9b8b-4ccb-f101-5b76fb0aa754"
      },
      "execution_count": 7,
      "outputs": [
        {
          "output_type": "stream",
          "name": "stdout",
          "text": [
            "Adding 5 to evry element in the array: [ 6  7  8  9 10]\n"
          ]
        }
      ]
    },
    {
      "cell_type": "code",
      "source": [
        "arr1 = np.array([[10, 20], [30, 40]])\n",
        "arr2 = np.array([[50, 60], [70, 80]])\n",
        "\n",
        "mul= arr1 * arr2\n",
        "print(\"Element-wise multiplication of arrays:\\n\",mul)\n"
      ],
      "metadata": {
        "colab": {
          "base_uri": "https://localhost:8080/"
        },
        "id": "OYTb3dhDWXj2",
        "outputId": "8d95b5e7-2388-464b-d367-fc386f5c8919"
      },
      "execution_count": 8,
      "outputs": [
        {
          "output_type": "stream",
          "name": "stdout",
          "text": [
            "Element-wise multiplication of arrays:\n",
            " [[ 500 1200]\n",
            " [2100 3200]]\n"
          ]
        }
      ]
    },
    {
      "cell_type": "markdown",
      "source": [
        "# 4.\tIndexing and Slicing\n",
        "o\tCreate a 5x5 array of integers from 1 to 25. Extract:\n",
        "\n",
        "\tThe first row.\n",
        "\n",
        "\tThe last column.\n",
        "\n",
        "\tA subarray of the first three rows and first two columns."
      ],
      "metadata": {
        "id": "I5UWM-IVW_WT"
      }
    },
    {
      "cell_type": "code",
      "source": [
        "array = np.arange(1, 26).reshape(5, 5)\n",
        "print(array)"
      ],
      "metadata": {
        "colab": {
          "base_uri": "https://localhost:8080/"
        },
        "id": "6DjqEENdXGK2",
        "outputId": "9e988ede-74fa-47c4-f7c9-343b7a1ddfcf"
      },
      "execution_count": 9,
      "outputs": [
        {
          "output_type": "stream",
          "name": "stdout",
          "text": [
            "[[ 1  2  3  4  5]\n",
            " [ 6  7  8  9 10]\n",
            " [11 12 13 14 15]\n",
            " [16 17 18 19 20]\n",
            " [21 22 23 24 25]]\n"
          ]
        }
      ]
    },
    {
      "cell_type": "code",
      "source": [
        "first_row = array[0, :]\n",
        "print(\"First Row:\", first_row)"
      ],
      "metadata": {
        "colab": {
          "base_uri": "https://localhost:8080/"
        },
        "id": "LqeQV5HeXUfL",
        "outputId": "3de9d938-910b-4d04-9c9f-1191e5dd46b9"
      },
      "execution_count": 13,
      "outputs": [
        {
          "output_type": "stream",
          "name": "stdout",
          "text": [
            "First Row: [1 2 3 4 5]\n"
          ]
        }
      ]
    },
    {
      "cell_type": "code",
      "source": [
        "last_column = array[:, -1]\n",
        "print(\"Last Column:\", last_column)"
      ],
      "metadata": {
        "colab": {
          "base_uri": "https://localhost:8080/"
        },
        "id": "yM-uqswwXhlu",
        "outputId": "6c25ac42-ba2c-4ab5-ab2d-5deacd65f20d"
      },
      "execution_count": 12,
      "outputs": [
        {
          "output_type": "stream",
          "name": "stdout",
          "text": [
            "Last Column: [ 5 10 15 20 25]\n"
          ]
        }
      ]
    },
    {
      "cell_type": "code",
      "source": [
        "array2 = array[:3, :2]\n",
        "print(\"Subarray (First 3 rows and 2 columns):\\n\",array2)"
      ],
      "metadata": {
        "colab": {
          "base_uri": "https://localhost:8080/"
        },
        "id": "l79ifSZUXv2d",
        "outputId": "22f661c4-e213-4835-c33d-bf3122afcc73"
      },
      "execution_count": 14,
      "outputs": [
        {
          "output_type": "stream",
          "name": "stdout",
          "text": [
            "Subarray (First 3 rows and 2 columns):\n",
            " [[ 1  2]\n",
            " [ 6  7]\n",
            " [11 12]]\n"
          ]
        }
      ]
    },
    {
      "cell_type": "markdown",
      "source": [
        "# 5.\tAggregation\n",
        "o\tCreate a 10-element array of random integers between 1 and 100. Find:\n",
        "\n",
        "\tThe maximum value.\n",
        "\n",
        "\tThe minimum value.\n",
        "\n",
        "\tThe mean and standard deviation.\n"
      ],
      "metadata": {
        "id": "UWhAceylX5wb"
      }
    },
    {
      "cell_type": "code",
      "source": [
        "rand_arr= np.random.randint(1, 101, 10)\n",
        "print(rand_arr)\n",
        "print(\"Maximum value:\",rand_arr.max())\n",
        "print(\"Minimum value:\",rand_arr.min())\n",
        "print(\"Mean value:\",rand_arr.mean())\n",
        "print(\"Standard deviation:\",rand_arr.std())"
      ],
      "metadata": {
        "colab": {
          "base_uri": "https://localhost:8080/"
        },
        "id": "jUG-NUOaX5RY",
        "outputId": "03f016ff-a43b-4fca-ec57-ab3bef1a0546"
      },
      "execution_count": 16,
      "outputs": [
        {
          "output_type": "stream",
          "name": "stdout",
          "text": [
            "[66 13 24 55 85 38 21 75 37 17]\n",
            "Maximum value: 85\n",
            "Minimum value: 13\n",
            "Mean value: 43.1\n",
            "Standard deviation: 24.37806390999909\n"
          ]
        }
      ]
    },
    {
      "cell_type": "markdown",
      "source": [
        "# 6.\tReshaping\n",
        "o\tConvert a 1D array of numbers from 1 to 12 into a 3x4 matrix\n"
      ],
      "metadata": {
        "id": "OoOcm5GlZEkN"
      }
    },
    {
      "cell_type": "code",
      "source": [
        "reshape_arr= np.arange(1, 13).reshape(3, 4)\n",
        "print(reshape_arr)"
      ],
      "metadata": {
        "colab": {
          "base_uri": "https://localhost:8080/"
        },
        "id": "caFsXhiIZENq",
        "outputId": "d29073a1-870d-4c59-f267-d0fe074550de"
      },
      "execution_count": 17,
      "outputs": [
        {
          "output_type": "stream",
          "name": "stdout",
          "text": [
            "[[ 1  2  3  4]\n",
            " [ 5  6  7  8]\n",
            " [ 9 10 11 12]]\n"
          ]
        }
      ]
    },
    {
      "cell_type": "markdown",
      "source": [
        "# 7.\tBroadcasting\n",
        "o\tCreate a 3x3 matrix of ones. Add a 1D array [1, 2, 3] to each row."
      ],
      "metadata": {
        "id": "GcnVVL_kZbYO"
      }
    },
    {
      "cell_type": "code",
      "source": [
        "import numpy as np\n",
        "matrix = np.ones((3, 3))\n",
        "arr = np.array([1, 2, 3])\n",
        "res_matrix= matrix + arr\n",
        "print(\"After Broadcasting:\\n\",res_matrix)\n"
      ],
      "metadata": {
        "colab": {
          "base_uri": "https://localhost:8080/"
        },
        "id": "Fj6wWZUbZglf",
        "outputId": "60bb37b9-b237-4ed6-d730-387c3b2d89b5"
      },
      "execution_count": 18,
      "outputs": [
        {
          "output_type": "stream",
          "name": "stdout",
          "text": [
            "After Broadcasting:\n",
            " [[2. 3. 4.]\n",
            " [2. 3. 4.]\n",
            " [2. 3. 4.]]\n"
          ]
        }
      ]
    },
    {
      "cell_type": "markdown",
      "source": [
        "# 8.\tFiltering\n",
        "o\tCreate a 1D array of random integers between 1 and 50. Extract all elements that are divisible by 5.\n"
      ],
      "metadata": {
        "id": "ldP1wF9YaF5I"
      }
    },
    {
      "cell_type": "code",
      "source": [
        "arr= np.random.randint(1,51,20)\n",
        "print(arr)\n",
        "filtered_arr= arr[arr % 5 == 0]\n",
        "print(\"Elements divisible by 5:\",filtered_arr)"
      ],
      "metadata": {
        "colab": {
          "base_uri": "https://localhost:8080/"
        },
        "id": "bb8OZWDeaFoF",
        "outputId": "34dd6321-ef23-449d-8896-89bfc3aa7899"
      },
      "execution_count": 23,
      "outputs": [
        {
          "output_type": "stream",
          "name": "stdout",
          "text": [
            "[40  6 46  5 10 42 22 41 33 25 20 36  5  1 19 28 16  6 42 24]\n",
            "Elements divisible by 5: [40  5 10 25 20  5]\n"
          ]
        }
      ]
    },
    {
      "cell_type": "markdown",
      "source": [
        "# 9.\tMatrix Multiplication\n",
        "o\tCreate two 2x2 matrices and perform matrix multiplication.\n"
      ],
      "metadata": {
        "id": "F27TD79EbO4y"
      }
    },
    {
      "cell_type": "code",
      "source": [
        "matrix_1 = np.array([[1, 2, 3],\n",
        "                     [4, 5, 6],\n",
        "                    [7, 8, 9]])\n",
        "\n",
        "matrix_2 = np.array([[9, 8, 7],\n",
        "                     [6, 5, 4],\n",
        "                     [3, 2, 1]])\n",
        "mat_mul=np.dot(matrix_1,matrix_2)\n",
        "print(mat_mul)"
      ],
      "metadata": {
        "colab": {
          "base_uri": "https://localhost:8080/"
        },
        "id": "8ruorzXUbS1g",
        "outputId": "75efecf1-1179-405d-f637-48abaf91fc67"
      },
      "execution_count": 25,
      "outputs": [
        {
          "output_type": "stream",
          "name": "stdout",
          "text": [
            "[[ 30  24  18]\n",
            " [ 84  69  54]\n",
            " [138 114  90]]\n"
          ]
        }
      ]
    },
    {
      "cell_type": "markdown",
      "source": [
        "# 10.\tAdvanced Indexing\n",
        "o\tGiven a 4x4 array, use fancy indexing to extract the diagonal elements.\n"
      ],
      "metadata": {
        "id": "AUjxGuJpb7Z7"
      }
    },
    {
      "cell_type": "code",
      "source": [
        "import numpy as np\n",
        "arr= np.arange(1, 17).reshape(4, 4)\n",
        "diagonal_ele = arr.diagonal()\n",
        "print(\"Diagonal Elements:\", diagonal_ele)\n"
      ],
      "metadata": {
        "colab": {
          "base_uri": "https://localhost:8080/"
        },
        "id": "rKrHiTPsb7EZ",
        "outputId": "10432835-84cb-4a8f-e444-9b9d44109d70"
      },
      "execution_count": 27,
      "outputs": [
        {
          "output_type": "stream",
          "name": "stdout",
          "text": [
            "Diagonal Elements: [ 1  6 11 16]\n"
          ]
        }
      ]
    }
  ]
}