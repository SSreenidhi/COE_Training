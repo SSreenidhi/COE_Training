{
 "cells": [
  {
   "cell_type": "code",
   "execution_count": 17,
   "id": "0aa3d6e7",
   "metadata": {},
   "outputs": [
    {
     "data": {
      "text/plain": [
       "Class\n",
       "High    7\n",
       "Low     6\n",
       "Name: count, dtype: int64"
      ]
     },
     "execution_count": 17,
     "metadata": {},
     "output_type": "execute_result"
    }
   ],
   "source": [
    "import pandas as pd\n",
    "from sklearn.utils import resample\n",
    "\n",
    "df = pd.DataFrame({\n",
    "    'Age': [22, 25, 27, 28, 30, 35, 40, 45, 50, 55, 60, 65, 70],\n",
    "    'Income': [2000, 2500, 2700, 3200, 3500, 3800, 4000, 4200, 4300, 4500, 5000, 5500, 6000],\n",
    "    'Class': ['High', 'Low', 'Low', 'High', 'High', 'Low', 'High', 'High', 'Low','Low','High', 'High', 'Low']\n",
    "})\n",
    "df.value_counts()\n",
    "df['Class'].value_counts()"
   ]
  },
  {
   "cell_type": "code",
   "execution_count": 18,
   "id": "b65e6c98",
   "metadata": {},
   "outputs": [],
   "source": [
    "df_high=df[df['Class']=='High']\n",
    "df_low=df[df['Class']=='Low']"
   ]
  },
  {
   "cell_type": "code",
   "execution_count": 19,
   "id": "3d6e4990",
   "metadata": {},
   "outputs": [],
   "source": [
    "df_high_downsampled=resample(df_high,replace=False,n_samples=len(df_low),random_state=42)"
   ]
  },
  {
   "cell_type": "code",
   "execution_count": 20,
   "id": "1c4820e2",
   "metadata": {},
   "outputs": [],
   "source": [
    "df_balanced=pd.concat([df_high_downsampled,df_low])"
   ]
  },
  {
   "cell_type": "code",
   "execution_count": 21,
   "id": "3fc9a7b5",
   "metadata": {},
   "outputs": [
    {
     "name": "stdout",
     "output_type": "stream",
     "text": [
      "Class\n",
      "High    6\n",
      "Low     6\n",
      "Name: count, dtype: int64\n"
     ]
    }
   ],
   "source": [
    "print(df_balanced['Class'].value_counts())"
   ]
  },
  {
   "cell_type": "markdown",
   "id": "ea27d60c",
   "metadata": {},
   "source": [
    "<ins>**Upsampling the Low class**<ins>"
   ]
  },
  {
   "cell_type": "code",
   "execution_count": 22,
   "id": "47058942",
   "metadata": {},
   "outputs": [
    {
     "name": "stdout",
     "output_type": "stream",
     "text": [
      "Class\n",
      "Low     7\n",
      "High    7\n",
      "Name: count, dtype: int64\n"
     ]
    }
   ],
   "source": [
    "df_low_upsampled=resample(df_low,replace=True,n_samples=len(df_high),random_state=42)\n",
    "df_balance=pd.concat([df_low_upsampled,df_high])\n",
    "print(df_balance['Class'].value_counts())"
   ]
  },
  {
   "cell_type": "code",
   "execution_count": 23,
   "id": "2c58bf66",
   "metadata": {},
   "outputs": [
    {
     "data": {
      "text/plain": [
       "Class\n",
       "Majority    9\n",
       "Minority    4\n",
       "Name: count, dtype: int64"
      ]
     },
     "execution_count": 23,
     "metadata": {},
     "output_type": "execute_result"
    }
   ],
   "source": [
    "import pandas as pd\n",
    "from sklearn.utils import resample\n",
    "\n",
    "df = pd.DataFrame({\n",
    "    'Age': [22, 25, 27, 28, 30, 35, 40, 45, 50, 55, 60, 65, 70],\n",
    "    'Income': [2000, 2500, 2700, 3200, 3500, 3800, 4000, 4200, 4300, 4500, 5000, 5500, 6000],\n",
    "    'Class': ['Majority', 'Minority', 'Majority', 'Majority', 'Majority', 'Minority', 'Majority', 'Majority', 'Majority','Minority','Majority', 'Majority', 'Minority']\n",
    "})\n",
    "df.value_counts()\n",
    "df['Class'].value_counts()"
   ]
  },
  {
   "cell_type": "code",
   "execution_count": 24,
   "id": "21b8a505",
   "metadata": {},
   "outputs": [],
   "source": [
    "df_high=df[df['Class']=='Majority']\n",
    "df_low=df[df['Class']=='Minority']"
   ]
  },
  {
   "cell_type": "code",
   "execution_count": 25,
   "id": "e896a616",
   "metadata": {},
   "outputs": [
    {
     "name": "stdout",
     "output_type": "stream",
     "text": [
      "Class\n",
      "Minority    9\n",
      "Majority    9\n",
      "Name: count, dtype: int64\n"
     ]
    }
   ],
   "source": [
    "df_minority_upsampled=resample(df_low,replace=True,n_samples=len(df_high),random_state=42)\n",
    "df_bal=pd.concat([df_minority_upsampled,df_high])\n",
    "print(df_bal['Class'].value_counts())"
   ]
  },
  {
   "cell_type": "markdown",
   "id": "b58733ac",
   "metadata": {},
   "source": [
    "**SMODE(Synthetic Minority Over Sampling Technique**"
   ]
  },
  {
   "cell_type": "code",
   "execution_count": 26,
   "id": "0fd837c4",
   "metadata": {},
   "outputs": [
    {
     "data": {
      "text/plain": [
       "Class\n",
       "Majority    9\n",
       "Minority    4\n",
       "Name: count, dtype: int64"
      ]
     },
     "execution_count": 26,
     "metadata": {},
     "output_type": "execute_result"
    }
   ],
   "source": [
    "import pandas as pd\n",
    "from sklearn.utils import resample\n",
    "\n",
    "df = pd.DataFrame({\n",
    "    'Age': [22, 25, 27, 28, 30, 35, 40, 45, 50, 55, 60, 65, 70],\n",
    "    'Income': [2000, 2500, 2700, 3200, 3500, 3800, 4000, 4200, 4300, 4500, 5000, 5500, 6000],\n",
    "    'Class': ['Majority', 'Minority', 'Majority', 'Majority', 'Majority', 'Minority', 'Majority', 'Majority', 'Majority','Minority','Majority', 'Majority', 'Minority']\n",
    "})\n",
    "df.value_counts()\n",
    "df['Class'].value_counts()"
   ]
  },
  {
   "cell_type": "code",
   "execution_count": 28,
   "id": "1691d4ec",
   "metadata": {},
   "outputs": [
    {
     "name": "stdout",
     "output_type": "stream",
     "text": [
      "Requirement already satisfied: imbalanced-learn in c:\\users\\cvr\\anaconda3\\lib\\site-packages (0.10.1)\n",
      "Requirement already satisfied: numpy>=1.17.3 in c:\\users\\cvr\\anaconda3\\lib\\site-packages (from imbalanced-learn) (1.24.3)\n",
      "Requirement already satisfied: scipy>=1.3.2 in c:\\users\\cvr\\anaconda3\\lib\\site-packages (from imbalanced-learn) (1.11.1)\n",
      "Requirement already satisfied: scikit-learn>=1.0.2 in c:\\users\\cvr\\anaconda3\\lib\\site-packages (from imbalanced-learn) (1.3.0)\n",
      "Requirement already satisfied: joblib>=1.1.1 in c:\\users\\cvr\\anaconda3\\lib\\site-packages (from imbalanced-learn) (1.2.0)\n",
      "Requirement already satisfied: threadpoolctl>=2.0.0 in c:\\users\\cvr\\anaconda3\\lib\\site-packages (from imbalanced-learn) (2.2.0)\n"
     ]
    },
    {
     "name": "stderr",
     "output_type": "stream",
     "text": [
      "\n",
      "[notice] A new release of pip is available: 24.3.1 -> 25.0\n",
      "[notice] To update, run: python.exe -m pip install --upgrade pip\n"
     ]
    }
   ],
   "source": [
    "!pip install imbalanced-learn"
   ]
  },
  {
   "cell_type": "code",
   "execution_count": 29,
   "id": "b85a3132",
   "metadata": {},
   "outputs": [
    {
     "name": "stdout",
     "output_type": "stream",
     "text": [
      "Requirement already satisfied: pip in c:\\users\\cvr\\anaconda3\\lib\\site-packages (24.3.1)\n",
      "Collecting pip\n",
      "  Downloading pip-25.0-py3-none-any.whl.metadata (3.7 kB)\n",
      "Downloading pip-25.0-py3-none-any.whl (1.8 MB)\n",
      "   ---------------------------------------- 0.0/1.8 MB ? eta -:--:--\n",
      "   ----------------- ---------------------- 0.8/1.8 MB 32.8 MB/s eta 0:00:01\n",
      "   ---------------------------------------- 1.8/1.8 MB 4.6 MB/s eta 0:00:00\n",
      "Installing collected packages: pip\n",
      "  Attempting uninstall: pip\n",
      "    Found existing installation: pip 24.3.1\n",
      "    Uninstalling pip-24.3.1:\n",
      "      Successfully uninstalled pip-24.3.1\n",
      "Successfully installed pip-25.0\n"
     ]
    }
   ],
   "source": [
    "!python.exe -m pip install --upgrade pip"
   ]
  },
  {
   "cell_type": "code",
   "execution_count": 30,
   "id": "a999bda9",
   "metadata": {},
   "outputs": [
    {
     "name": "stdout",
     "output_type": "stream",
     "text": [
      "Requirement already satisfied: imbalanced-learn in c:\\users\\cvr\\anaconda3\\lib\\site-packages (0.10.1)\n",
      "Requirement already satisfied: numpy>=1.17.3 in c:\\users\\cvr\\anaconda3\\lib\\site-packages (from imbalanced-learn) (1.24.3)\n",
      "Requirement already satisfied: scipy>=1.3.2 in c:\\users\\cvr\\anaconda3\\lib\\site-packages (from imbalanced-learn) (1.11.1)\n",
      "Requirement already satisfied: scikit-learn>=1.0.2 in c:\\users\\cvr\\anaconda3\\lib\\site-packages (from imbalanced-learn) (1.3.0)\n",
      "Requirement already satisfied: joblib>=1.1.1 in c:\\users\\cvr\\anaconda3\\lib\\site-packages (from imbalanced-learn) (1.2.0)\n",
      "Requirement already satisfied: threadpoolctl>=2.0.0 in c:\\users\\cvr\\anaconda3\\lib\\site-packages (from imbalanced-learn) (2.2.0)\n"
     ]
    }
   ],
   "source": [
    "!pip install imbalanced-learn"
   ]
  },
  {
   "cell_type": "code",
   "execution_count": 1,
   "id": "371c423b",
   "metadata": {},
   "outputs": [
    {
     "name": "stdout",
     "output_type": "stream",
     "text": [
      "Class\n",
      "Majority    9\n",
      "Minority    9\n",
      "Name: count, dtype: int64\n",
      "    Age  Income     Class\n",
      "0    22    2000  Majority\n",
      "1    25    2500  Minority\n",
      "2    27    2700  Majority\n",
      "3    28    3200  Majority\n",
      "4    30    3500  Majority\n",
      "5    35    3800  Minority\n",
      "6    40    4000  Majority\n",
      "7    45    4200  Majority\n",
      "8    50    4300  Majority\n",
      "9    55    4500  Minority\n",
      "10   60    5000  Majority\n",
      "11   65    5500  Majority\n",
      "12   70    6000  Minority\n",
      "13   51    4390  Minority\n",
      "14   38    3909  Minority\n",
      "15   67    5872  Minority\n",
      "16   67    5799  Minority\n",
      "17   28    3018  Minority\n"
     ]
    }
   ],
   "source": [
    "import pandas as pd\n",
    "from sklearn.utils import resample\n",
    "from imblearn.over_sampling import SMOTE  # Import SMOTE\n",
    "\n",
    "# Create the DataFrame\n",
    "df = pd.DataFrame({\n",
    "    'Age': [22, 25, 27, 28, 30, 35, 40, 45, 50, 55, 60, 65, 70],\n",
    "    'Income': [2000, 2500, 2700, 3200, 3500, 3800, 4000, 4200, 4300, 4500, 5000, 5500, 6000],\n",
    "    'Class': ['Majority', 'Minority', 'Majority', 'Majority', 'Majority', 'Minority', 'Majority', 'Majority', 'Majority', 'Minority', 'Majority', 'Majority', 'Minority']\n",
    "})\n",
    "\n",
    "# Convert the categorical labels to numerical values\n",
    "df['Class'] = df['Class'].map({'Majority': 0, 'Minority': 1})\n",
    "\n",
    "# Define the features (X) and target (y)\n",
    "X = df[['Age', 'Income']]\n",
    "y = df['Class']\n",
    "\n",
    "# Apply SMOTE to balance the dataset\n",
    "smote = SMOTE(sampling_strategy='auto', random_state=42, k_neighbors=3)\n",
    "X_resampled, y_resampled = smote.fit_resample(X, y)\n",
    "\n",
    "# Map resampled labels back to original categorical labels\n",
    "y_resampled = y_resampled.map({0: 'Majority', 1: 'Minority'})\n",
    "\n",
    "# Combine the resampled features and target into a balanced DataFrame\n",
    "df_balanced = pd.concat([pd.DataFrame(X_resampled, columns=['Age', 'Income']), pd.DataFrame(y_resampled, columns=['Class'])], axis=1)\n",
    "\n",
    "# Display the value counts of each class and the balanced DataFrame\n",
    "print(df_balanced['Class'].value_counts())\n",
    "print(df_balanced)\n"
   ]
  },
  {
   "cell_type": "code",
   "execution_count": 40,
   "id": "fa75bb00",
   "metadata": {},
   "outputs": [
    {
     "name": "stderr",
     "output_type": "stream",
     "text": [
      "WARNING: Skipping scikit-learn as it is not installed.\n",
      "WARNING: Skipping imbalanced-learn as it is not installed.\n"
     ]
    }
   ],
   "source": [
    "!pip uninstall scikit-learn imbalanced-learn -y"
   ]
  },
  {
   "cell_type": "code",
   "execution_count": 41,
   "id": "0733e1a2",
   "metadata": {},
   "outputs": [
    {
     "name": "stdout",
     "output_type": "stream",
     "text": [
      "Collecting scikit-learn\n",
      "  Downloading scikit_learn-1.6.1-cp311-cp311-win_amd64.whl.metadata (15 kB)\n",
      "Collecting imbalanced-learn\n",
      "  Downloading imbalanced_learn-0.13.0-py3-none-any.whl.metadata (8.8 kB)\n",
      "Requirement already satisfied: numpy>=1.19.5 in c:\\users\\cvr\\anaconda3\\lib\\site-packages (from scikit-learn) (1.24.3)\n",
      "Requirement already satisfied: scipy>=1.6.0 in c:\\users\\cvr\\anaconda3\\lib\\site-packages (from scikit-learn) (1.11.1)\n",
      "Requirement already satisfied: joblib>=1.2.0 in c:\\users\\cvr\\anaconda3\\lib\\site-packages (from scikit-learn) (1.2.0)\n",
      "Collecting threadpoolctl>=3.1.0 (from scikit-learn)\n",
      "  Downloading threadpoolctl-3.5.0-py3-none-any.whl.metadata (13 kB)\n",
      "Collecting sklearn-compat<1,>=0.1 (from imbalanced-learn)\n",
      "  Downloading sklearn_compat-0.1.3-py3-none-any.whl.metadata (18 kB)\n",
      "Downloading scikit_learn-1.6.1-cp311-cp311-win_amd64.whl (11.1 MB)\n",
      "   ---------------------------------------- 0.0/11.1 MB ? eta -:--:--\n",
      "   -------- ------------------------------- 2.4/11.1 MB 26.9 MB/s eta 0:00:01\n",
      "   -------- ------------------------------- 2.4/11.1 MB 26.9 MB/s eta 0:00:01\n",
      "   ----------------- ---------------------- 5.0/11.1 MB 11.2 MB/s eta 0:00:01\n",
      "   ----------------- ---------------------- 5.0/11.1 MB 11.2 MB/s eta 0:00:01\n",
      "   ----------------- ---------------------- 5.0/11.1 MB 11.2 MB/s eta 0:00:01\n",
      "   ----------------- ---------------------- 5.0/11.1 MB 11.2 MB/s eta 0:00:01\n",
      "   ----------------- ---------------------- 5.0/11.1 MB 11.2 MB/s eta 0:00:01\n",
      "   ------------------------ --------------- 6.8/11.1 MB 4.0 MB/s eta 0:00:02\n",
      "   --------------------------- ------------ 7.6/11.1 MB 4.5 MB/s eta 0:00:01\n",
      "   --------------------------- ------------ 7.6/11.1 MB 4.5 MB/s eta 0:00:01\n",
      "   --------------------------- ------------ 7.6/11.1 MB 4.5 MB/s eta 0:00:01\n",
      "   --------------------------- ------------ 7.6/11.1 MB 4.5 MB/s eta 0:00:01\n",
      "   ------------------------------------ --- 10.2/11.1 MB 3.9 MB/s eta 0:00:01\n",
      "   ------------------------------------ --- 10.2/11.1 MB 3.9 MB/s eta 0:00:01\n",
      "   ------------------------------------ --- 10.2/11.1 MB 3.9 MB/s eta 0:00:01\n",
      "   ------------------------------------ --- 10.2/11.1 MB 3.9 MB/s eta 0:00:01\n",
      "   ---------------------------------------- 11.1/11.1 MB 3.1 MB/s eta 0:00:00\n",
      "Downloading imbalanced_learn-0.13.0-py3-none-any.whl (238 kB)\n",
      "Downloading sklearn_compat-0.1.3-py3-none-any.whl (18 kB)\n",
      "Downloading threadpoolctl-3.5.0-py3-none-any.whl (18 kB)\n",
      "Installing collected packages: threadpoolctl, scikit-learn, sklearn-compat, imbalanced-learn\n",
      "  Attempting uninstall: threadpoolctl\n",
      "    Found existing installation: threadpoolctl 2.2.0\n",
      "    Uninstalling threadpoolctl-2.2.0:\n",
      "      Successfully uninstalled threadpoolctl-2.2.0\n",
      "Successfully installed imbalanced-learn-0.13.0 scikit-learn-1.6.1 sklearn-compat-0.1.3 threadpoolctl-3.5.0\n",
      "Note: you may need to restart the kernel to use updated packages.\n"
     ]
    }
   ],
   "source": [
    "pip install -U scikit-learn imbalanced-learn"
   ]
  },
  {
   "cell_type": "code",
   "execution_count": 43,
   "id": "bc57f6eb",
   "metadata": {},
   "outputs": [
    {
     "name": "stdout",
     "output_type": "stream",
     "text": [
      "Requirement already satisfied: imbalanced-learn in c:\\users\\cvr\\anaconda3\\lib\\site-packages (0.13.0)\n",
      "Requirement already satisfied: numpy<3,>=1.24.3 in c:\\users\\cvr\\anaconda3\\lib\\site-packages (from imbalanced-learn) (1.24.3)\n",
      "Requirement already satisfied: scipy<2,>=1.10.1 in c:\\users\\cvr\\anaconda3\\lib\\site-packages (from imbalanced-learn) (1.11.1)\n",
      "Requirement already satisfied: scikit-learn<2,>=1.3.2 in c:\\users\\cvr\\anaconda3\\lib\\site-packages (from imbalanced-learn) (1.6.1)\n",
      "Requirement already satisfied: sklearn-compat<1,>=0.1 in c:\\users\\cvr\\anaconda3\\lib\\site-packages (from imbalanced-learn) (0.1.3)\n",
      "Requirement already satisfied: joblib<2,>=1.1.1 in c:\\users\\cvr\\anaconda3\\lib\\site-packages (from imbalanced-learn) (1.2.0)\n",
      "Requirement already satisfied: threadpoolctl<4,>=2.0.0 in c:\\users\\cvr\\anaconda3\\lib\\site-packages (from imbalanced-learn) (3.5.0)\n",
      "Note: you may need to restart the kernel to use updated packages.\n"
     ]
    }
   ],
   "source": [
    "pip install imbalanced-learn"
   ]
  },
  {
   "cell_type": "code",
   "execution_count": 4,
   "id": "6f80b139",
   "metadata": {},
   "outputs": [
    {
     "name": "stdout",
     "output_type": "stream",
     "text": [
      "Class\n",
      "Majority    9\n",
      "Minority    9\n",
      "Name: count, dtype: int64\n",
      "    Age  Income     Class\n",
      "0    22    2000  Majority\n",
      "1    25    2500  Minority\n",
      "2    27    2700  Majority\n",
      "3    28    3200  Majority\n",
      "4    30    3500  Majority\n",
      "5    35    3800  Minority\n",
      "6    40    4000  Majority\n",
      "7    45    4200  Majority\n",
      "8    50    4300  Majority\n",
      "9    55    4500  Minority\n",
      "10   60    5000  Majority\n",
      "11   65    5500  Majority\n",
      "12   70    6000  Minority\n",
      "13   51    4390  Minority\n",
      "14   38    3909  Minority\n",
      "15   67    5872  Minority\n",
      "16   67    5799  Minority\n",
      "17   28    3018  Minority\n"
     ]
    }
   ],
   "source": [
    "import pandas as pd\n",
    "from sklearn.utils import resample\n",
    "from imblearn.over_sampling import SMOTE  # Import SMOTE\n",
    "\n",
    "# Create the DataFrame\n",
    "df = pd.DataFrame({\n",
    "    'Age': [22, 25, 27, 28, 30, 35, 40, 45, 50, 55, 60, 65, 70],\n",
    "    'Income': [2000, 2500, 2700, 3200, 3500, 3800, 4000, 4200, 4300, 4500, 5000, 5500, 6000],\n",
    "    'Class': ['Majority', 'Minority', 'Majority', 'Majority', 'Majority', 'Minority', 'Majority', 'Majority', 'Majority', 'Minority', 'Majority', 'Majority', 'Minority']\n",
    "})\n",
    "\n",
    "# Convert the categorical labels to numerical values\n",
    "df['Class'] = df['Class'].map({'Majority': 0, 'Minority': 1})\n",
    "\n",
    "# Define the features (X) and target (y)\n",
    "X = df[['Age', 'Income']]\n",
    "y = df['Class']\n",
    "\n",
    "# Apply SMOTE to balance the dataset\n",
    "smote = SMOTE(sampling_strategy='auto', random_state=42, k_neighbors=3)\n",
    "X_resampled, y_resampled = smote.fit_resample(X, y)\n",
    "\n",
    "# Map resampled labels back to original categorical labels\n",
    "y_resampled = y_resampled.map({0: 'Majority', 1: 'Minority'})\n",
    "\n",
    "# Combine the resampled features and target into a balanced DataFrame\n",
    "df_balanced = pd.concat([pd.DataFrame(X_resampled, columns=['Age', 'Income']), pd.DataFrame(y_resampled, columns=['Class'])], axis=1)\n",
    "\n",
    "# Display the value counts of each class and the balanced DataFrame\n",
    "print(df_balanced['Class'].value_counts())\n",
    "print(df_balanced)\n"
   ]
  },
  {
   "cell_type": "code",
   "execution_count": 5,
   "id": "eb36f933",
   "metadata": {},
   "outputs": [
    {
     "name": "stdout",
     "output_type": "stream",
     "text": [
      "Class\n",
      "1    9\n",
      "0    9\n",
      "Name: count, dtype: int64\n",
      "    Age  Income  Class\n",
      "0    22    2000      1\n",
      "1    25    2500      0\n",
      "2    27    2700      0\n",
      "3    28    3200      0\n",
      "4    30    3500      0\n",
      "5    35    3800      1\n",
      "6    40    4000      1\n",
      "7    45    4200      1\n",
      "8    50    4300      0\n",
      "9    55    4500      0\n",
      "10   60    5000      0\n",
      "11   65    5500      0\n",
      "12   70    6000      0\n",
      "13   40    4031      1\n",
      "14   35    3831      1\n",
      "15   44    4176      1\n",
      "16   35    3826      1\n",
      "17   41    4040      1\n"
     ]
    }
   ],
   "source": [
    "import pandas as pd\n",
    "from imblearn.over_sampling import SMOTE\n",
    "\n",
    "df = pd.DataFrame({\n",
    "    'Age': [22, 25, 27, 28, 30, 35, 40, 45, 50, 55, 60, 65, 70],\n",
    "    'Income': [2000, 2500, 2700, 3200, 3500, 3800, 4000, 4200, 4300, 4500, 5000, 5500, 6000],\n",
    "    'Class': ['Minority', 'Majority', 'Majority', 'Majority', 'Majority', 'Minority', 'Minority', 'Minority', 'Majority',  'Majority', 'Majority', 'Majority', 'Majority']\n",
    "})\n",
    "df['Class'].value_counts()\n",
    "\n",
    "#Step1: Convert categorical labels to numerical values\n",
    "df['Class'] = df['Class'].map({'Majority': 0, 'Minority': 1})\n",
    "\n",
    "#Step2: Split features (X) and target variable (y)\n",
    "X = df[['Age', 'Income']]\n",
    "y = df['Class']\n",
    "\n",
    "#Step3: Apply SMOTE with k_neighbors=3 (reducing from default 5)\n",
    "smote = SMOTE(sampling_strategy='auto', random_state=42, k_neighbors=3)\n",
    "X_resampled, y_resampled = smote.fit_resample(X, y)\n",
    "\n",
    "#Step4: Convert numeric labels back to categorical\n",
    "X_resampled,y_resampled.map({'Majority': 0, 'Minority': 1})\n",
    "\n",
    "#Step5: Combine the resampled dataset\n",
    "df_balanced = pd.concat([pd.DataFrame(X_resampled, columns=['Age', 'Income']), pd.DataFrame(y_resampled, columns=['Class'])], axis=1)\n",
    "\n",
    "#Step6: print class distribution\n",
    "print(df_balanced['Class'].value_counts())\n",
    "\n",
    "#Step7: Display the unsampled dataset\n",
    "print(df_balanced)"
   ]
  },
  {
   "cell_type": "code",
   "execution_count": null,
   "id": "86595767",
   "metadata": {},
   "outputs": [],
   "source": [
    " "
   ]
  }
 ],
 "metadata": {
  "kernelspec": {
   "display_name": "Python 3 (ipykernel)",
   "language": "python",
   "name": "python3"
  },
  "language_info": {
   "codemirror_mode": {
    "name": "ipython",
    "version": 3
   },
   "file_extension": ".py",
   "mimetype": "text/x-python",
   "name": "python",
   "nbconvert_exporter": "python",
   "pygments_lexer": "ipython3",
   "version": "3.11.5"
  }
 },
 "nbformat": 4,
 "nbformat_minor": 5
}
